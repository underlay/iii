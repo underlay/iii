{
 "cells": [
  {
   "cell_type": "code",
   "execution_count": 120,
   "metadata": {},
   "outputs": [],
   "source": [
    "import pandas as pd\n",
    "import glob\n",
    "import time\n",
    "import fatcat_openapi_client\n",
    "from fatcat_openapi_client.rest import ApiException"
   ]
  },
  {
   "cell_type": "code",
   "execution_count": 79,
   "metadata": {},
   "outputs": [
    {
     "name": "stdout",
     "output_type": "stream",
     "text": [
      "20\n"
     ]
    }
   ],
   "source": [
    "n_lens_files =  len(glob.glob('/Users/timholdsworth/code/lens-lab/Data/lens-mit-papers/export-*.jsonl'))\n",
    "lens_files = ['/Users/timholdsworth/code/lens-lab/Data/lens-mit-papers/export-{}.jsonl'.format(i) for i in range(n_lens_files)]\n",
    "print(len(lens_files))"
   ]
  },
  {
   "cell_type": "code",
   "execution_count": 74,
   "metadata": {},
   "outputs": [
    {
     "data": {
      "text/plain": [
       "'/Users/timholdsworth/code/lens-lab/Data/lens-mit-papers/export-0'"
      ]
     },
     "execution_count": 74,
     "metadata": {},
     "output_type": "execute_result"
    }
   ],
   "source": [
    "lens_files[0][:-6]"
   ]
  },
  {
   "cell_type": "code",
   "execution_count": 56,
   "metadata": {},
   "outputs": [],
   "source": [
    "df = pd.read_json(lens_files[0], lines=True)\n",
    "df = df.head(100)"
   ]
  },
  {
   "cell_type": "code",
   "execution_count": 78,
   "metadata": {
    "code_folding": [
     1
    ],
    "collapsed": true
   },
   "outputs": [
    {
     "name": "stdout",
     "output_type": "stream",
     "text": [
      "Getting DOIs from /Users/timholdsworth/code/lens-lab/Data/lens-mit-papers/export-0.jsonl\n",
      "Getting DOIs from /Users/timholdsworth/code/lens-lab/Data/lens-mit-papers/export-1.jsonl\n",
      "Getting DOIs from /Users/timholdsworth/code/lens-lab/Data/lens-mit-papers/export-2.jsonl\n",
      "Getting DOIs from /Users/timholdsworth/code/lens-lab/Data/lens-mit-papers/export-3.jsonl\n",
      "Getting DOIs from /Users/timholdsworth/code/lens-lab/Data/lens-mit-papers/export-4.jsonl\n",
      "Getting DOIs from /Users/timholdsworth/code/lens-lab/Data/lens-mit-papers/export-5.jsonl\n",
      "Getting DOIs from /Users/timholdsworth/code/lens-lab/Data/lens-mit-papers/export-6.jsonl\n",
      "Getting DOIs from /Users/timholdsworth/code/lens-lab/Data/lens-mit-papers/export-7.jsonl\n",
      "Getting DOIs from /Users/timholdsworth/code/lens-lab/Data/lens-mit-papers/export-8.jsonl\n",
      "Getting DOIs from /Users/timholdsworth/code/lens-lab/Data/lens-mit-papers/export-9.jsonl\n",
      "Getting DOIs from /Users/timholdsworth/code/lens-lab/Data/lens-mit-papers/export-10.jsonl\n",
      "Getting DOIs from /Users/timholdsworth/code/lens-lab/Data/lens-mit-papers/export-11.jsonl\n",
      "Getting DOIs from /Users/timholdsworth/code/lens-lab/Data/lens-mit-papers/export-12.jsonl\n",
      "Getting DOIs from /Users/timholdsworth/code/lens-lab/Data/lens-mit-papers/export-13.jsonl\n",
      "Getting DOIs from /Users/timholdsworth/code/lens-lab/Data/lens-mit-papers/export-14.jsonl\n",
      "Getting DOIs from /Users/timholdsworth/code/lens-lab/Data/lens-mit-papers/export-15.jsonl\n",
      "Getting DOIs from /Users/timholdsworth/code/lens-lab/Data/lens-mit-papers/export-16.jsonl\n",
      "Getting DOIs from /Users/timholdsworth/code/lens-lab/Data/lens-mit-papers/export-17.jsonl\n",
      "Getting DOIs from /Users/timholdsworth/code/lens-lab/Data/lens-mit-papers/export-18.jsonl\n",
      "Getting DOIs from /Users/timholdsworth/code/lens-lab/Data/lens-mit-papers/export-19.jsonl\n"
     ]
    }
   ],
   "source": [
    "# Get the DOIs from Lens data and write to a file\n",
    "def extract_dois(lens_files):\n",
    "    for file in lens_files:\n",
    "        print('Getting DOIs from {}'.format(file))\n",
    "        with open('{}-DOIs.txt'.format(file[:-6]), 'w') as f:\n",
    "            df = pd.read_json(file, lines=True)\n",
    "            for paper in df['external_ids']:\n",
    "                for ext_id in paper:\n",
    "                    if ext_id['type'] == 'doi':\n",
    "                        f.write(ext_id.get('value'))\n",
    "                        f.write('\\n')\n",
    "                    else:\n",
    "                        pass\n",
    "\n",
    "extract_dois(lens_files)"
   ]
  },
  {
   "cell_type": "code",
   "execution_count": 97,
   "metadata": {},
   "outputs": [
    {
     "name": "stdout",
     "output_type": "stream",
     "text": [
      "20\n",
      "/Users/timholdsworth/code/lens-lab/Data/lens-mit-papers/export-0-DOIs.txt\n"
     ]
    }
   ],
   "source": [
    "n_doi_files =  len(glob.glob('/Users/timholdsworth/code/lens-lab/Data/lens-mit-papers/export-*-DOIs.txt'))\n",
    "doi_files = ['/Users/timholdsworth/code/lens-lab/Data/lens-mit-papers/export-{}-DOIs.txt'.format(i) for i in range(n_lens_files)]\n",
    "print(len(doi_files))\n",
    "print(doi_files[0])"
   ]
  },
  {
   "cell_type": "code",
   "execution_count": 132,
   "metadata": {},
   "outputs": [],
   "source": [
    "conf = fatcat_openapi_client.Configuration()\n",
    "conf.host = \"https://api.fatcat.wiki/v0\"\n",
    "api = fatcat_openapi_client.DefaultApi(fatcat_openapi_client.ApiClient(conf))"
   ]
  },
  {
   "cell_type": "code",
   "execution_count": null,
   "metadata": {
    "code_folding": [
     1
    ]
   },
   "outputs": [
    {
     "name": "stdout",
     "output_type": "stream",
     "text": [
      "DOI not found!\n"
     ]
    }
   ],
   "source": [
    "# Get data from the fatcat API using the DOIs\n",
    "def get_fatcat_data(doi_files):\n",
    "    for file in doi_files:\n",
    "        with open(file, 'r') as f: \n",
    "            with open(file[:-9] + '-fatcat.jsonl', 'w') as fout:\n",
    "                dois = f.readlines()\n",
    "                for doi in dois:\n",
    "                    time.sleep(.1)\n",
    "                    try:\n",
    "                        r = api.lookup_release(doi=doi[:-1])#, expand=\"files\", hide=\"abstracts,refs\")\n",
    "                        fout.write(str(r))\n",
    "                        fout.write('\\n')\n",
    "                    except ApiException as ae:\n",
    "                        if ae.status == 404:\n",
    "                            print(\"DOI not found!\")\n",
    "                            #return\n",
    "                        else:\n",
    "                            raise ae\n",
    "    return 'Done'\n",
    "\n",
    "get_fatcat_data(doi_files)"
   ]
  },
  {
   "cell_type": "code",
   "execution_count": null,
   "metadata": {},
   "outputs": [],
   "source": []
  }
 ],
 "metadata": {
  "kernelspec": {
   "display_name": "ss-env",
   "language": "python",
   "name": "ss-env"
  },
  "language_info": {
   "codemirror_mode": {
    "name": "ipython",
    "version": 3
   },
   "file_extension": ".py",
   "mimetype": "text/x-python",
   "name": "python",
   "nbconvert_exporter": "python",
   "pygments_lexer": "ipython3",
   "version": "3.5.2"
  }
 },
 "nbformat": 4,
 "nbformat_minor": 2
}
